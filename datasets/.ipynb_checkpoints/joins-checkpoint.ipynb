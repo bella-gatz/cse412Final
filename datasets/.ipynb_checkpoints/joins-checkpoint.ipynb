{
 "cells": [
  {
   "cell_type": "code",
   "execution_count": 7,
   "id": "d8ac234a",
   "metadata": {},
   "outputs": [],
   "source": [
    "import pandas as pd\n"
   ]
  },
  {
   "cell_type": "code",
   "execution_count": 8,
   "id": "d74d3482",
   "metadata": {},
   "outputs": [],
   "source": [
    "income = pd.read_csv('./MedianHHIncome.csv')\n",
    "housePrices = pd.read_csv('./medianHomePrice.csv')"
   ]
  },
  {
   "cell_type": "code",
   "execution_count": 9,
   "id": "da0811f6",
   "metadata": {},
   "outputs": [
    {
     "name": "stdout",
     "output_type": "stream",
     "text": [
      "data types for income ds\n",
      "observation_date    object\n",
      "MedianHHIncome       int64\n",
      "dtype: object\n"
     ]
    },
    {
     "data": {
      "text/html": [
       "<div>\n",
       "<style scoped>\n",
       "    .dataframe tbody tr th:only-of-type {\n",
       "        vertical-align: middle;\n",
       "    }\n",
       "\n",
       "    .dataframe tbody tr th {\n",
       "        vertical-align: top;\n",
       "    }\n",
       "\n",
       "    .dataframe thead th {\n",
       "        text-align: right;\n",
       "    }\n",
       "</style>\n",
       "<table border=\"1\" class=\"dataframe\">\n",
       "  <thead>\n",
       "    <tr style=\"text-align: right;\">\n",
       "      <th></th>\n",
       "      <th>observation_date</th>\n",
       "      <th>MedianHHIncome</th>\n",
       "    </tr>\n",
       "  </thead>\n",
       "  <tbody>\n",
       "    <tr>\n",
       "      <th>0</th>\n",
       "      <td>1/1/84</td>\n",
       "      <td>58930</td>\n",
       "    </tr>\n",
       "    <tr>\n",
       "      <th>1</th>\n",
       "      <td>1/1/85</td>\n",
       "      <td>60050</td>\n",
       "    </tr>\n",
       "    <tr>\n",
       "      <th>2</th>\n",
       "      <td>1/1/86</td>\n",
       "      <td>62280</td>\n",
       "    </tr>\n",
       "    <tr>\n",
       "      <th>3</th>\n",
       "      <td>1/1/87</td>\n",
       "      <td>63060</td>\n",
       "    </tr>\n",
       "    <tr>\n",
       "      <th>4</th>\n",
       "      <td>1/1/88</td>\n",
       "      <td>63530</td>\n",
       "    </tr>\n",
       "  </tbody>\n",
       "</table>\n",
       "</div>"
      ],
      "text/plain": [
       "  observation_date  MedianHHIncome\n",
       "0           1/1/84           58930\n",
       "1           1/1/85           60050\n",
       "2           1/1/86           62280\n",
       "3           1/1/87           63060\n",
       "4           1/1/88           63530"
      ]
     },
     "execution_count": 9,
     "metadata": {},
     "output_type": "execute_result"
    }
   ],
   "source": [
    "print(\"data types for income ds\")\n",
    "print(income.dtypes)\n",
    "income.head()\n",
    "# yearly dates\n",
    "# need to convert to year only"
   ]
  },
  {
   "cell_type": "code",
   "execution_count": 10,
   "id": "b0b26878",
   "metadata": {},
   "outputs": [],
   "source": [
    "income['observation_date'] = pd.to_datetime(income['observation_date']).dt.year\n",
    "\n",
    "# income"
   ]
  },
  {
   "cell_type": "code",
   "execution_count": 11,
   "id": "54e3db32",
   "metadata": {},
   "outputs": [
    {
     "name": "stdout",
     "output_type": "stream",
     "text": [
      "data types for house prices ds\n",
      "observation_date    object\n",
      "medianPrice          int64\n",
      "dtype: object\n"
     ]
    },
    {
     "data": {
      "text/html": [
       "<div>\n",
       "<style scoped>\n",
       "    .dataframe tbody tr th:only-of-type {\n",
       "        vertical-align: middle;\n",
       "    }\n",
       "\n",
       "    .dataframe tbody tr th {\n",
       "        vertical-align: top;\n",
       "    }\n",
       "\n",
       "    .dataframe thead th {\n",
       "        text-align: right;\n",
       "    }\n",
       "</style>\n",
       "<table border=\"1\" class=\"dataframe\">\n",
       "  <thead>\n",
       "    <tr style=\"text-align: right;\">\n",
       "      <th></th>\n",
       "      <th>observation_date</th>\n",
       "      <th>medianPrice</th>\n",
       "    </tr>\n",
       "  </thead>\n",
       "  <tbody>\n",
       "    <tr>\n",
       "      <th>0</th>\n",
       "      <td>1/1/63</td>\n",
       "      <td>17800</td>\n",
       "    </tr>\n",
       "    <tr>\n",
       "      <th>1</th>\n",
       "      <td>4/1/63</td>\n",
       "      <td>18000</td>\n",
       "    </tr>\n",
       "    <tr>\n",
       "      <th>2</th>\n",
       "      <td>7/1/63</td>\n",
       "      <td>17900</td>\n",
       "    </tr>\n",
       "    <tr>\n",
       "      <th>3</th>\n",
       "      <td>10/1/63</td>\n",
       "      <td>18500</td>\n",
       "    </tr>\n",
       "    <tr>\n",
       "      <th>4</th>\n",
       "      <td>1/1/64</td>\n",
       "      <td>18500</td>\n",
       "    </tr>\n",
       "  </tbody>\n",
       "</table>\n",
       "</div>"
      ],
      "text/plain": [
       "  observation_date  medianPrice\n",
       "0           1/1/63        17800\n",
       "1           4/1/63        18000\n",
       "2           7/1/63        17900\n",
       "3          10/1/63        18500\n",
       "4           1/1/64        18500"
      ]
     },
     "execution_count": 11,
     "metadata": {},
     "output_type": "execute_result"
    }
   ],
   "source": [
    "print(\"data types for house prices ds\")\n",
    "print(housePrices.dtypes)\n",
    "housePrices.head()\n",
    "# housePrices.tail()\n",
    "# quarter-yearly dates --> convert to average per year"
   ]
  },
  {
   "cell_type": "code",
   "execution_count": 12,
   "id": "7349c5aa",
   "metadata": {},
   "outputs": [
    {
     "data": {
      "text/html": [
       "<div>\n",
       "<style scoped>\n",
       "    .dataframe tbody tr th:only-of-type {\n",
       "        vertical-align: middle;\n",
       "    }\n",
       "\n",
       "    .dataframe tbody tr th {\n",
       "        vertical-align: top;\n",
       "    }\n",
       "\n",
       "    .dataframe thead th {\n",
       "        text-align: right;\n",
       "    }\n",
       "</style>\n",
       "<table border=\"1\" class=\"dataframe\">\n",
       "  <thead>\n",
       "    <tr style=\"text-align: right;\">\n",
       "      <th></th>\n",
       "      <th>observation_date</th>\n",
       "    </tr>\n",
       "  </thead>\n",
       "  <tbody>\n",
       "    <tr>\n",
       "      <th>0</th>\n",
       "      <td>1963</td>\n",
       "    </tr>\n",
       "    <tr>\n",
       "      <th>1</th>\n",
       "      <td>1964</td>\n",
       "    </tr>\n",
       "    <tr>\n",
       "      <th>2</th>\n",
       "      <td>1965</td>\n",
       "    </tr>\n",
       "    <tr>\n",
       "      <th>3</th>\n",
       "      <td>1966</td>\n",
       "    </tr>\n",
       "    <tr>\n",
       "      <th>4</th>\n",
       "      <td>1967</td>\n",
       "    </tr>\n",
       "  </tbody>\n",
       "</table>\n",
       "</div>"
      ],
      "text/plain": [
       "   observation_date\n",
       "0              1963\n",
       "1              1964\n",
       "2              1965\n",
       "3              1966\n",
       "4              1967"
      ]
     },
     "execution_count": 12,
     "metadata": {},
     "output_type": "execute_result"
    }
   ],
   "source": [
    "length = int(len(housePrices)/4)\n",
    "\n",
    "dates = pd.date_range(\"19630101\", periods=length, freq='Y')\n",
    "\n",
    "observation_date = [0] * length\n",
    "\n",
    "for i in range(0, length):\n",
    "    observation_date[i] = dates[i].year\n",
    "    \n",
    "newPrices = pd.DataFrame({'observation_date': observation_date})\n",
    "newPrices.head()"
   ]
  },
  {
   "cell_type": "code",
   "execution_count": 13,
   "id": "be0824be",
   "metadata": {},
   "outputs": [],
   "source": [
    "avgYearPrice = [0] * length\n",
    "for i in range(0, length):\n",
    "    start = i*4\n",
    "    newPrice = housePrices['medianPrice'][start:start+4].mean()\n",
    "    avgYearPrice[i] = newPrice"
   ]
  },
  {
   "cell_type": "code",
   "execution_count": 14,
   "id": "241d5013",
   "metadata": {},
   "outputs": [
    {
     "data": {
      "text/html": [
       "<div>\n",
       "<style scoped>\n",
       "    .dataframe tbody tr th:only-of-type {\n",
       "        vertical-align: middle;\n",
       "    }\n",
       "\n",
       "    .dataframe tbody tr th {\n",
       "        vertical-align: top;\n",
       "    }\n",
       "\n",
       "    .dataframe thead th {\n",
       "        text-align: right;\n",
       "    }\n",
       "</style>\n",
       "<table border=\"1\" class=\"dataframe\">\n",
       "  <thead>\n",
       "    <tr style=\"text-align: right;\">\n",
       "      <th></th>\n",
       "      <th>observation_date</th>\n",
       "      <th>avgYearPrice</th>\n",
       "    </tr>\n",
       "  </thead>\n",
       "  <tbody>\n",
       "    <tr>\n",
       "      <th>0</th>\n",
       "      <td>1963</td>\n",
       "      <td>18050.0</td>\n",
       "    </tr>\n",
       "    <tr>\n",
       "      <th>1</th>\n",
       "      <td>1964</td>\n",
       "      <td>18925.0</td>\n",
       "    </tr>\n",
       "    <tr>\n",
       "      <th>2</th>\n",
       "      <td>1965</td>\n",
       "      <td>20125.0</td>\n",
       "    </tr>\n",
       "    <tr>\n",
       "      <th>3</th>\n",
       "      <td>1966</td>\n",
       "      <td>21500.0</td>\n",
       "    </tr>\n",
       "    <tr>\n",
       "      <th>4</th>\n",
       "      <td>1967</td>\n",
       "      <td>22750.0</td>\n",
       "    </tr>\n",
       "    <tr>\n",
       "      <th>...</th>\n",
       "      <td>...</td>\n",
       "      <td>...</td>\n",
       "    </tr>\n",
       "    <tr>\n",
       "      <th>57</th>\n",
       "      <td>2020</td>\n",
       "      <td>328150.0</td>\n",
       "    </tr>\n",
       "    <tr>\n",
       "      <th>58</th>\n",
       "      <td>2021</td>\n",
       "      <td>383000.0</td>\n",
       "    </tr>\n",
       "    <tr>\n",
       "      <th>59</th>\n",
       "      <td>2022</td>\n",
       "      <td>432950.0</td>\n",
       "    </tr>\n",
       "    <tr>\n",
       "      <th>60</th>\n",
       "      <td>2023</td>\n",
       "      <td>426525.0</td>\n",
       "    </tr>\n",
       "    <tr>\n",
       "      <th>61</th>\n",
       "      <td>2024</td>\n",
       "      <td>418950.0</td>\n",
       "    </tr>\n",
       "  </tbody>\n",
       "</table>\n",
       "<p>62 rows × 2 columns</p>\n",
       "</div>"
      ],
      "text/plain": [
       "    observation_date  avgYearPrice\n",
       "0               1963       18050.0\n",
       "1               1964       18925.0\n",
       "2               1965       20125.0\n",
       "3               1966       21500.0\n",
       "4               1967       22750.0\n",
       "..               ...           ...\n",
       "57              2020      328150.0\n",
       "58              2021      383000.0\n",
       "59              2022      432950.0\n",
       "60              2023      426525.0\n",
       "61              2024      418950.0\n",
       "\n",
       "[62 rows x 2 columns]"
      ]
     },
     "execution_count": 14,
     "metadata": {},
     "output_type": "execute_result"
    }
   ],
   "source": [
    "newPrices['avgYearPrice'] = avgYearPrice\n",
    "newPrices"
   ]
  },
  {
   "cell_type": "code",
   "execution_count": 15,
   "id": "653f5a69",
   "metadata": {},
   "outputs": [],
   "source": [
    "newPrices = newPrices[newPrices['observation_date'] >= income['observation_date'][0]]\n",
    "newPrices = newPrices[newPrices['observation_date'] <= income['observation_date'][len(income)-1]]\n",
    "\n",
    "len(income)\n",
    "# newPrices\n",
    "#just need to join\n",
    "# income.join(newPrices, on='observation_date')\n",
    "incomeAndPrices = pd.merge(income, newPrices, on=\"observation_date\")"
   ]
  },
  {
   "cell_type": "code",
   "execution_count": 16,
   "id": "042fa198",
   "metadata": {},
   "outputs": [],
   "source": [
    "incomeAndPrices.to_csv('incomeAndPrices.csv', index=False)"
   ]
  },
  {
   "cell_type": "code",
   "execution_count": 17,
   "id": "489133ed",
   "metadata": {},
   "outputs": [
    {
     "data": {
      "text/html": [
       "<div>\n",
       "<style scoped>\n",
       "    .dataframe tbody tr th:only-of-type {\n",
       "        vertical-align: middle;\n",
       "    }\n",
       "\n",
       "    .dataframe tbody tr th {\n",
       "        vertical-align: top;\n",
       "    }\n",
       "\n",
       "    .dataframe thead th {\n",
       "        text-align: right;\n",
       "    }\n",
       "</style>\n",
       "<table border=\"1\" class=\"dataframe\">\n",
       "  <thead>\n",
       "    <tr style=\"text-align: right;\">\n",
       "      <th></th>\n",
       "      <th>observation_date</th>\n",
       "      <th>MedianHHIncome</th>\n",
       "      <th>avgYearPrice</th>\n",
       "    </tr>\n",
       "  </thead>\n",
       "  <tbody>\n",
       "    <tr>\n",
       "      <th>0</th>\n",
       "      <td>1984</td>\n",
       "      <td>58930</td>\n",
       "      <td>79950.0</td>\n",
       "    </tr>\n",
       "    <tr>\n",
       "      <th>1</th>\n",
       "      <td>1985</td>\n",
       "      <td>60050</td>\n",
       "      <td>84275.0</td>\n",
       "    </tr>\n",
       "    <tr>\n",
       "      <th>2</th>\n",
       "      <td>1986</td>\n",
       "      <td>62280</td>\n",
       "      <td>92025.0</td>\n",
       "    </tr>\n",
       "    <tr>\n",
       "      <th>3</th>\n",
       "      <td>1987</td>\n",
       "      <td>63060</td>\n",
       "      <td>104700.0</td>\n",
       "    </tr>\n",
       "    <tr>\n",
       "      <th>4</th>\n",
       "      <td>1988</td>\n",
       "      <td>63530</td>\n",
       "      <td>112225.0</td>\n",
       "    </tr>\n",
       "  </tbody>\n",
       "</table>\n",
       "</div>"
      ],
      "text/plain": [
       "   observation_date  MedianHHIncome  avgYearPrice\n",
       "0              1984           58930       79950.0\n",
       "1              1985           60050       84275.0\n",
       "2              1986           62280       92025.0\n",
       "3              1987           63060      104700.0\n",
       "4              1988           63530      112225.0"
      ]
     },
     "execution_count": 17,
     "metadata": {},
     "output_type": "execute_result"
    }
   ],
   "source": [
    "incomeAndPrices.head()"
   ]
  },
  {
   "cell_type": "code",
   "execution_count": null,
   "id": "8f7e3b75",
   "metadata": {},
   "outputs": [],
   "source": []
  }
 ],
 "metadata": {
  "kernelspec": {
   "display_name": "Python 3 (ipykernel)",
   "language": "python",
   "name": "python3"
  },
  "language_info": {
   "codemirror_mode": {
    "name": "ipython",
    "version": 3
   },
   "file_extension": ".py",
   "mimetype": "text/x-python",
   "name": "python",
   "nbconvert_exporter": "python",
   "pygments_lexer": "ipython3",
   "version": "3.9.12"
  }
 },
 "nbformat": 4,
 "nbformat_minor": 5
}
