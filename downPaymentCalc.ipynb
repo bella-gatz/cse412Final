{
 "cells": [
  {
   "cell_type": "code",
   "execution_count": 9,
   "id": "218a67b3",
   "metadata": {},
   "outputs": [],
   "source": [
    "# Imports\n",
    "\n",
    "import pandas as pd\n",
    "\n",
    "import cpi\n",
    "\n",
    "# Loading combined dataset -> see joins for more info\n",
    "df = pd.read_csv('./finalizedDS/incomeAndPrice.csv')"
   ]
  },
  {
   "cell_type": "code",
   "execution_count": 10,
   "id": "008a0a75",
   "metadata": {},
   "outputs": [],
   "source": [
    "# down payment things\n",
    "# url: https://www.bankofamerica.com/mortgage/learn/mortgage-down-payment/\n",
    "df[\"downPayment20\"] = df[\"avgYearPrice\"] * 0.20\n",
    "df[\"downPayment5\"] = df[\"avgYearPrice\"] * 0.05"
   ]
  },
  {
   "cell_type": "code",
   "execution_count": 11,
   "id": "34bb610b",
   "metadata": {},
   "outputs": [
    {
     "data": {
      "text/html": [
       "<div>\n",
       "<style scoped>\n",
       "    .dataframe tbody tr th:only-of-type {\n",
       "        vertical-align: middle;\n",
       "    }\n",
       "\n",
       "    .dataframe tbody tr th {\n",
       "        vertical-align: top;\n",
       "    }\n",
       "\n",
       "    .dataframe thead th {\n",
       "        text-align: right;\n",
       "    }\n",
       "</style>\n",
       "<table border=\"1\" class=\"dataframe\">\n",
       "  <thead>\n",
       "    <tr style=\"text-align: right;\">\n",
       "      <th></th>\n",
       "      <th>observation_date</th>\n",
       "      <th>medianHHIncome</th>\n",
       "      <th>date</th>\n",
       "      <th>avgYearPrice</th>\n",
       "      <th>realMedianHHIncome</th>\n",
       "      <th>realHousePrice</th>\n",
       "      <th>downPayment20</th>\n",
       "      <th>downPayment5</th>\n",
       "    </tr>\n",
       "  </thead>\n",
       "  <tbody>\n",
       "    <tr>\n",
       "      <th>0</th>\n",
       "      <td>1984-01-01</td>\n",
       "      <td>22420</td>\n",
       "      <td>1984</td>\n",
       "      <td>79950.0</td>\n",
       "      <td>65749.940712</td>\n",
       "      <td>234465.109721</td>\n",
       "      <td>15990.0</td>\n",
       "      <td>3997.50</td>\n",
       "    </tr>\n",
       "    <tr>\n",
       "      <th>1</th>\n",
       "      <td>1985-01-01</td>\n",
       "      <td>23620</td>\n",
       "      <td>1985</td>\n",
       "      <td>84275.0</td>\n",
       "      <td>66887.186245</td>\n",
       "      <td>238650.195632</td>\n",
       "      <td>16855.0</td>\n",
       "      <td>4213.75</td>\n",
       "    </tr>\n",
       "    <tr>\n",
       "      <th>2</th>\n",
       "      <td>1986-01-01</td>\n",
       "      <td>24900</td>\n",
       "      <td>1986</td>\n",
       "      <td>92025.0</td>\n",
       "      <td>69225.180657</td>\n",
       "      <td>255841.255018</td>\n",
       "      <td>18405.0</td>\n",
       "      <td>4601.25</td>\n",
       "    </tr>\n",
       "    <tr>\n",
       "      <th>3</th>\n",
       "      <td>1987-01-01</td>\n",
       "      <td>26060</td>\n",
       "      <td>1987</td>\n",
       "      <td>104700.0</td>\n",
       "      <td>69899.067958</td>\n",
       "      <td>280830.100352</td>\n",
       "      <td>20940.0</td>\n",
       "      <td>5235.00</td>\n",
       "    </tr>\n",
       "    <tr>\n",
       "      <th>4</th>\n",
       "      <td>1988-01-01</td>\n",
       "      <td>27230</td>\n",
       "      <td>1988</td>\n",
       "      <td>112225.0</td>\n",
       "      <td>70135.549112</td>\n",
       "      <td>289054.792477</td>\n",
       "      <td>22445.0</td>\n",
       "      <td>5611.25</td>\n",
       "    </tr>\n",
       "  </tbody>\n",
       "</table>\n",
       "</div>"
      ],
      "text/plain": [
       "  observation_date  medianHHIncome  date  avgYearPrice  realMedianHHIncome  \\\n",
       "0       1984-01-01           22420  1984       79950.0        65749.940712   \n",
       "1       1985-01-01           23620  1985       84275.0        66887.186245   \n",
       "2       1986-01-01           24900  1986       92025.0        69225.180657   \n",
       "3       1987-01-01           26060  1987      104700.0        69899.067958   \n",
       "4       1988-01-01           27230  1988      112225.0        70135.549112   \n",
       "\n",
       "   realHousePrice  downPayment20  downPayment5  \n",
       "0   234465.109721        15990.0       3997.50  \n",
       "1   238650.195632        16855.0       4213.75  \n",
       "2   255841.255018        18405.0       4601.25  \n",
       "3   280830.100352        20940.0       5235.00  \n",
       "4   289054.792477        22445.0       5611.25  "
      ]
     },
     "execution_count": 11,
     "metadata": {},
     "output_type": "execute_result"
    }
   ],
   "source": [
    "df.head()"
   ]
  }
 ],
 "metadata": {
  "kernelspec": {
   "display_name": "Python 3 (ipykernel)",
   "language": "python",
   "name": "python3"
  },
  "language_info": {
   "codemirror_mode": {
    "name": "ipython",
    "version": 3
   },
   "file_extension": ".py",
   "mimetype": "text/x-python",
   "name": "python",
   "nbconvert_exporter": "python",
   "pygments_lexer": "ipython3",
   "version": "3.9.12"
  }
 },
 "nbformat": 4,
 "nbformat_minor": 5
}
