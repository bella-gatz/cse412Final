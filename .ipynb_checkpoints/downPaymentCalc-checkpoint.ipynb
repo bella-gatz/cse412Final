{
 "cells": [
  {
   "cell_type": "code",
   "execution_count": 11,
   "id": "08efbef5",
   "metadata": {},
   "outputs": [],
   "source": [
    "# Imports\n",
    "\n",
    "import pandas as pd\n",
    "\n",
    "import cpi\n",
    "\n",
    "# Loading combined dataset -> see joins for more info\n",
    "df = pd.read_csv('./finalizedDS/incomeAndPrice.csv')"
   ]
  },
  {
   "cell_type": "code",
   "execution_count": 17,
   "id": "eeed5e83",
   "metadata": {},
   "outputs": [
    {
     "data": {
      "text/html": [
       "<div>\n",
       "<style scoped>\n",
       "    .dataframe tbody tr th:only-of-type {\n",
       "        vertical-align: middle;\n",
       "    }\n",
       "\n",
       "    .dataframe tbody tr th {\n",
       "        vertical-align: top;\n",
       "    }\n",
       "\n",
       "    .dataframe thead th {\n",
       "        text-align: right;\n",
       "    }\n",
       "</style>\n",
       "<table border=\"1\" class=\"dataframe\">\n",
       "  <thead>\n",
       "    <tr style=\"text-align: right;\">\n",
       "      <th></th>\n",
       "      <th>date</th>\n",
       "      <th>downPayment20</th>\n",
       "      <th>downPayment035</th>\n",
       "    </tr>\n",
       "  </thead>\n",
       "  <tbody>\n",
       "    <tr>\n",
       "      <th>0</th>\n",
       "      <td>1984</td>\n",
       "      <td>15990.0</td>\n",
       "      <td>2798.250</td>\n",
       "    </tr>\n",
       "    <tr>\n",
       "      <th>1</th>\n",
       "      <td>1985</td>\n",
       "      <td>16855.0</td>\n",
       "      <td>2949.625</td>\n",
       "    </tr>\n",
       "    <tr>\n",
       "      <th>2</th>\n",
       "      <td>1986</td>\n",
       "      <td>18405.0</td>\n",
       "      <td>3220.875</td>\n",
       "    </tr>\n",
       "    <tr>\n",
       "      <th>3</th>\n",
       "      <td>1987</td>\n",
       "      <td>20940.0</td>\n",
       "      <td>3664.500</td>\n",
       "    </tr>\n",
       "    <tr>\n",
       "      <th>4</th>\n",
       "      <td>1988</td>\n",
       "      <td>22445.0</td>\n",
       "      <td>3927.875</td>\n",
       "    </tr>\n",
       "  </tbody>\n",
       "</table>\n",
       "</div>"
      ],
      "text/plain": [
       "   date  downPayment20  downPayment035\n",
       "0  1984        15990.0        2798.250\n",
       "1  1985        16855.0        2949.625\n",
       "2  1986        18405.0        3220.875\n",
       "3  1987        20940.0        3664.500\n",
       "4  1988        22445.0        3927.875"
      ]
     },
     "execution_count": 17,
     "metadata": {},
     "output_type": "execute_result"
    }
   ],
   "source": [
    "# down payment things\n",
    "# url: https://www.bankofamerica.com/mortgage/learn/mortgage-down-payment/\n",
    "df[\"downPayment20\"] = df[\"avgYearPrice\"] * 0.20\n",
    "df[\"downPayment035\"] = df[\"avgYearPrice\"] * 0.035\n",
    "df2 = df[[\"date\", \"downPayment20\", \"downPayment035\"]]\n",
    "df2.head()"
   ]
  },
  {
   "cell_type": "code",
   "execution_count": 18,
   "id": "e6cdb928",
   "metadata": {},
   "outputs": [],
   "source": [
    "df2.to_csv('./finalizedDS/downPayments.csv', index=False)"
   ]
  },
  {
   "cell_type": "code",
   "execution_count": null,
   "id": "75dcd7b8",
   "metadata": {},
   "outputs": [],
   "source": []
  }
 ],
 "metadata": {
  "kernelspec": {
   "display_name": "Python 3 (ipykernel)",
   "language": "python",
   "name": "python3"
  },
  "language_info": {
   "codemirror_mode": {
    "name": "ipython",
    "version": 3
   },
   "file_extension": ".py",
   "mimetype": "text/x-python",
   "name": "python",
   "nbconvert_exporter": "python",
   "pygments_lexer": "ipython3",
   "version": "3.9.12"
  }
 },
 "nbformat": 4,
 "nbformat_minor": 5
}
